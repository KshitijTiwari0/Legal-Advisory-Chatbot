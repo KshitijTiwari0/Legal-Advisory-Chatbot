{
 "cells": [
  {
   "cell_type": "code",
   "execution_count": 1,
   "metadata": {},
   "outputs": [],
   "source": [
    "import os\n",
    "import pandas as pd\n",
    "import matplotlib.pyplot as plt\n",
    "from transformers import GPT2TokenizerFast\n",
    "from langchain.document_loaders import PyPDFLoader\n",
    "from langchain.text_splitter import RecursiveCharacterTextSplitter\n",
    "from langchain.embeddings import HuggingFaceEmbeddings\n",
    "from langchain.vectorstores import FAISS\n",
    "from langchain.chains import ConversationalRetrievalChain\n",
    "from langchain.llms import Ollama\n"
   ]
  },
  {
   "cell_type": "code",
   "execution_count": null,
   "metadata": {},
   "outputs": [],
   "source": [
    "pdf_path = \"\" #path to your pdf"
   ]
  },
  {
   "cell_type": "code",
   "execution_count": 3,
   "metadata": {},
   "outputs": [
    {
     "name": "stdout",
     "output_type": "stream",
     "text": [
      "page_content='A Comprehensive Overview of Large Language Models\n",
      "Humza Naveeda, Asad Ullah Khanb,∗, Shi Qiuc,∗, Muhammad Saqibd,e,∗, Saeed Anwarf,g, Muhammad Usmanf,g, Naveed Akhtarh,j,\n",
      "Nick Barnesi, Ajmal Mianj\n",
      "aThe University of Sydney, Sydney, Australia\n",
      "bUniversity of Engineering and Technology (UET), Lahore, Pakistan\n",
      "cThe Chinese University of Hong Kong (CUHK), HKSAR, China\n",
      "dUniversity of Technology Sydney (UTS), Sydney, Australia\n",
      "eCommonwealth Scientific and Industrial Research Organisation (CSIRO), Sydney, Australia\n",
      "fKing Fahd University of Petroleum and Minerals (KFUPM), Dhahran, Saudi Arabia\n",
      "gSDAIA-KFUPM Joint Research Center for Artificial Intelligence (JRCAI), Dhahran, Saudi Arabia\n",
      "hThe University of Melbourne (UoM), Melbourne, Australia\n",
      "iAustralian National University (ANU), Canberra, Australia\n",
      "jThe University of Western Australia (UWA), Perth, Australia\n",
      "Abstract\n",
      "Large Language Models (LLMs) have recently demonstrated remarkable capabilities in natural language processing tasks and\n",
      "beyond. This success of LLMs has led to a large influx of research contributions in this direction. These works encompass diverse\n",
      "topics such as architectural innovations, better training strategies, context length improvements, fine-tuning, multi-modal LLMs,\n",
      "robotics, datasets, benchmarking, e fficiency, and more. With the rapid development of techniques and regular breakthroughs in\n",
      "LLM research, it has become considerably challenging to perceive the bigger picture of the advances in this direction. Considering\n",
      "the rapidly emerging plethora of literature on LLMs, it is imperative that the research community is able to benefit from a concise\n",
      "yet comprehensive overview of the recent developments in this field. This article provides an overview of the literature on a broad\n",
      "range of LLM-related concepts. Our self-contained comprehensive overview of LLMs discusses relevant background concepts\n",
      "along with covering the advanced topics at the frontier of research in LLMs. This review article is intended to provide not only a\n",
      "systematic survey but also a quick, comprehensive reference for the researchers and practitioners to draw insights from extensive,\n",
      "informative summaries of the existing works to advance the LLM research.\n",
      "Keywords:\n",
      "Large Language Models, LLMs, chatGPT, Augmented LLMs, Multimodal LLMs, LLM training, LLM Benchmarking\n",
      "1. Introduction\n",
      "Language plays a fundamental role in facilitating commu-\n",
      "nication and self-expression for humans and their interaction\n",
      "with machines. The need for generalized models stems from\n",
      "the growing demand for machines to handle complex language\n",
      "tasks, including translation, summarization, information re-\n",
      "trieval, conversational interactions, etc. Recently, significant\n",
      "breakthroughs have been witnessed in language models, pri-\n",
      "marily attributed to transformers [1], increased computational\n",
      "capabilities, and the availability of large-scale training data.\n",
      "These developments have brought about a revolutionary trans-\n",
      "formation by enabling the creation of LLMs that can approxi-\n",
      "mate human-level performance on various tasks [2, 3]. Large\n",
      "∗Equal contribution\n",
      "Email addresses: humza_naveed@yahoo.com (Humza Naveed),\n",
      "aukhanee@gmail.com (Asad Ullah Khan), shiqiu@cse.cuhk.edu.hk (Shi\n",
      "Qiu), muhammad.saqib@data61.csiro.au (Muhammad Saqib),\n",
      "saeed.anwar@kfupm.edu.sa (Saeed Anwar),\n",
      "muhammad.usman@kfupm.edu.sa (Muhammad Usman),\n",
      "naveed.akhtar1@unimelb.edu.au (Naveed Akhtar),\n",
      "nick.barnes@anu.edu.au (Nick Barnes), ajmal.mian@uwa.edu.au\n",
      "(Ajmal Mian)\n",
      "Figure 1: The trend of papers released over the years containing keywords\n",
      "\"Large Language Model\", \"Large Language Model+ Fine-Tuning\", and \"Large\n",
      "Language Model + Alignment\".\n",
      "Preprint submitted to Elsevier October 18, 2024\n",
      "arXiv:2307.06435v10  [cs.CL]  17 Oct 2024' metadata={'source': 'LLMs.pdf', 'page': 0, 'page_label': '1'}\n"
     ]
    }
   ],
   "source": [
    "loader = PyPDFLoader(pdf_path)\n",
    "pages = loader.load_and_split()\n",
    "print(pages[0])"
   ]
  },
  {
   "cell_type": "code",
   "execution_count": 4,
   "metadata": {},
   "outputs": [],
   "source": [
    "chunks = pages\n"
   ]
  },
  {
   "cell_type": "code",
   "execution_count": 5,
   "metadata": {},
   "outputs": [],
   "source": [
    "import PyPDF2"
   ]
  },
  {
   "cell_type": "code",
   "execution_count": 6,
   "metadata": {},
   "outputs": [],
   "source": [
    "def extract_text_from_pdf(pdf_path):\n",
    "    text = \"\"\n",
    "    with open(pdf_path, \"rb\") as f:\n",
    "        reader = PyPDF2.PdfReader(f)\n",
    "        for page in reader.pages:\n",
    "            text += page.extract_text() + \"\\n\"\n",
    "    return text"
   ]
  },
  {
   "cell_type": "code",
   "execution_count": 7,
   "metadata": {},
   "outputs": [],
   "source": [
    "text = extract_text_from_pdf(pdf_path)"
   ]
  },
  {
   "cell_type": "code",
   "execution_count": 8,
   "metadata": {},
   "outputs": [],
   "source": [
    "tokenizer = GPT2TokenizerFast.from_pretrained(\"gpt2\")"
   ]
  },
  {
   "cell_type": "code",
   "execution_count": 9,
   "metadata": {},
   "outputs": [],
   "source": [
    "def count_tokens(text: str) -> int:\n",
    "    return len(tokenizer.encode(text))"
   ]
  },
  {
   "cell_type": "code",
   "execution_count": 10,
   "metadata": {},
   "outputs": [],
   "source": [
    "text_splitter = RecursiveCharacterTextSplitter(\n",
    "    chunk_size=512,\n",
    "    chunk_overlap=24,\n",
    "    length_function=count_tokens,\n",
    ")"
   ]
  },
  {
   "cell_type": "code",
   "execution_count": 11,
   "metadata": {},
   "outputs": [],
   "source": [
    "chunks = text_splitter.create_documents([text])"
   ]
  },
  {
   "cell_type": "code",
   "execution_count": 12,
   "metadata": {},
   "outputs": [
    {
     "data": {
      "image/png": "[encoded data removed]",
      "text/plain": [
       "<Figure size 640x480 with 1 Axes>"
      ]
     },
     "metadata": {},
     "output_type": "display_data"
    }
   ],
   "source": [
    "token_counts = [count_tokens(chunk.page_content) for chunk in chunks]\n",
    "df = pd.DataFrame({'Token Count': token_counts})\n",
    "df.hist(bins=40)\n",
    "plt.show()"
   ]
  },
  {
   "cell_type": "code",
   "execution_count": 13,
   "metadata": {},
   "outputs": [
    {
     "name": "stderr",
     "output_type": "stream",
     "text": [
      "C:\\Users\\kshit\\AppData\\Local\\Temp\\ipykernel_13984\\2730809270.py:1: LangChainDeprecationWarning: The class `HuggingFaceEmbeddings` was deprecated in LangChain 0.2.2 and will be removed in 1.0. An updated version of the class exists in the :class:`~langchain-huggingface package and should be used instead. To use it run `pip install -U :class:`~langchain-huggingface` and import as `from :class:`~langchain_huggingface import HuggingFaceEmbeddings``.\n",
      "  embeddings = HuggingFaceEmbeddings(model_name=\"sentence-transformers/all-MiniLM-L6-v2\")\n"
     ]
    }
   ],
   "source": [
    "embeddings = HuggingFaceEmbeddings(model_name=\"sentence-transformers/all-MiniLM-L6-v2\")\n",
    "db = FAISS.from_documents(chunks, embeddings)"
   ]
  },
  {
   "cell_type": "code",
   "execution_count": 14,
   "metadata": {},
   "outputs": [
    {
     "name": "stdout",
     "output_type": "stream",
     "text": [
      "page_content='A Comprehensive Overview of Large Language Models\n",
      "Humza Naveeda, Asad Ullah Khanb,∗, Shi Qiuc,∗, Muhammad Saqibd,e,∗, Saeed Anwarf,g, Muhammad Usmanf,g, Naveed Akhtarh,j,\n",
      "Nick Barnesi, Ajmal Mianj\n",
      "aThe University of Sydney, Sydney, Australia\n",
      "bUniversity of Engineering and Technology (UET), Lahore, Pakistan\n",
      "cThe Chinese University of Hong Kong (CUHK), HKSAR, China\n",
      "dUniversity of Technology Sydney (UTS), Sydney, Australia\n",
      "eCommonwealth Scientific and Industrial Research Organisation (CSIRO), Sydney, Australia\n",
      "fKing Fahd University of Petroleum and Minerals (KFUPM), Dhahran, Saudi Arabia\n",
      "gSDAIA-KFUPM Joint Research Center for Artificial Intelligence (JRCAI), Dhahran, Saudi Arabia\n",
      "hThe University of Melbourne (UoM), Melbourne, Australia\n",
      "iAustralian National University (ANU), Canberra, Australia\n",
      "jThe University of Western Australia (UWA), Perth, Australia\n",
      "Abstract\n",
      "Large Language Models (LLMs) have recently demonstrated remarkable capabilities in natural language processing tasks and\n",
      "beyond. This success of LLMs has led to a large influx of research contributions in this direction. These works encompass diverse\n",
      "topics such as architectural innovations, better training strategies, context length improvements, fine-tuning, multi-modal LLMs,\n",
      "robotics, datasets, benchmarking, e fficiency, and more. With the rapid development of techniques and regular breakthroughs in\n",
      "LLM research, it has become considerably challenging to perceive the bigger picture of the advances in this direction. Considering\n",
      "the rapidly emerging plethora of literature on LLMs, it is imperative that the research community is able to benefit from a concise\n",
      "yet comprehensive overview of the recent developments in this field. This article provides an overview of the literature on a broad\n",
      "range of LLM-related concepts. Our self-contained comprehensive overview of LLMs discusses relevant background concepts\n",
      "along with covering the advanced topics at the frontier of research in LLMs. This review article is intended to provide not only a\n",
      "systematic survey but also a quick, comprehensive reference for the researchers and practitioners to draw insights from extensive,\n",
      "informative summaries of the existing works to advance the LLM research.\n",
      "Keywords:'\n"
     ]
    }
   ],
   "source": [
    "query = \"What are Large Language Models?\"\n",
    "docs = db.similarity_search(query)\n",
    "print(docs[0])"
   ]
  },
  {
   "cell_type": "code",
   "execution_count": 15,
   "metadata": {},
   "outputs": [
    {
     "name": "stderr",
     "output_type": "stream",
     "text": [
      "C:\\Users\\kshit\\AppData\\Local\\Temp\\ipykernel_13984\\3433403578.py:1: LangChainDeprecationWarning: The class `Ollama` was deprecated in LangChain 0.3.1 and will be removed in 1.0.0. An updated version of the class exists in the :class:`~langchain-ollama package and should be used instead. To use it run `pip install -U :class:`~langchain-ollama` and import as `from :class:`~langchain_ollama import OllamaLLM``.\n",
      "  llm = Ollama(model=\"mistral\")\n"
     ]
    }
   ],
   "source": [
    "llm = Ollama(model=\"mistral\")\n"
   ]
  },
  {
   "cell_type": "code",
   "execution_count": 16,
   "metadata": {},
   "outputs": [],
   "source": [
    "qa = ConversationalRetrievalChain.from_llm(llm, db.as_retriever())"
   ]
  },
  {
   "cell_type": "code",
   "execution_count": 17,
   "metadata": {},
   "outputs": [],
   "source": [
    "from IPython.display import display\n",
    "import ipywidgets as widgets\n"
   ]
  },
  {
   "cell_type": "code",
   "execution_count": 18,
   "metadata": {},
   "outputs": [],
   "source": [
    "chat_history = []\n"
   ]
  },
  {
   "cell_type": "code",
   "execution_count": 19,
   "metadata": {},
   "outputs": [],
   "source": [
    "def on_submit(_):\n",
    "    query = input_box.value\n",
    "    input_box.value = \"\"\n",
    "\n",
    "    if query.lower() == 'exit':\n",
    "        print(\"Thank you for using the chatbot!\")\n",
    "        return\n",
    "    \n",
    "    result = qa({\"question\": query, \"chat_history\": chat_history})\n",
    "    chat_history.append((query, result['answer']))\n",
    "    \n",
    "    display(widgets.HTML(f'<b>User:</b> {query}'))\n",
    "    display(widgets.HTML(f'<b><font color=\"blue\">Chatbot:</font></b> {result[\"answer\"]}'))\n"
   ]
  },
  {
   "cell_type": "code",
   "execution_count": null,
   "metadata": {},
   "outputs": [
    {
     "name": "stdout",
     "output_type": "stream",
     "text": [
      "Welcome to the Transformers chatbot! Type 'exit' to stop.\n"
     ]
    },
    {
     "name": "stderr",
     "output_type": "stream",
     "text": [
      "C:\\Users\\kshit\\AppData\\Local\\Temp\\ipykernel_13984\\1043220898.py:4: DeprecationWarning: on_submit is deprecated. Instead, set the .continuous_update attribute to False and observe the value changing with: mywidget.observe(callback, 'value').\n",
      "  input_box.on_submit(on_submit)\n"
     ]
    },
    {
     "data": {
      "application/vnd.jupyter.widget-view+json": {
       "model_id": "8ebc1454b482426c968ed1167dad3c29",
       "version_major": 2,
       "version_minor": 0
      },
      "text/plain": [
       "Text(value='', placeholder='Please enter your question:')"
      ]
     },
     "metadata": {},
     "output_type": "display_data"
    },
    {
     "name": "stderr",
     "output_type": "stream",
     "text": [
      "C:\\Users\\kshit\\AppData\\Local\\Temp\\ipykernel_13984\\481638371.py:9: LangChainDeprecationWarning: The method `Chain.__call__` was deprecated in langchain 0.1.0 and will be removed in 1.0. Use :meth:`~invoke` instead.\n",
      "  result = qa({\"question\": query, \"chat_history\": chat_history})\n"
     ]
    }
   ],
   "source": [
    "print(\"Welcome to the Transformers chatbot! Type 'exit' to stop.\")\n",
    "\n",
    "input_box = widgets.Text(placeholder='Please enter your question:')\n",
    "input_box.on_submit(on_submit)\n",
    "\n",
    "display(input_box)\n"
   ]
  }
 ],
 "metadata": {
  "kernelspec": {
   "display_name": "buddy",
   "language": "python",
   "name": "python3"
  },
  "language_info": {
   "codemirror_mode": {
    "name": "ipython",
    "version": 3
   },
   "file_extension": ".py",
   "mimetype": "text/x-python",
   "name": "python",
   "nbconvert_exporter": "python",
   "pygments_lexer": "ipython3",
   "version": "3.9.0"
  }
 },
 "nbformat": 4,
 "nbformat_minor": 2
}
